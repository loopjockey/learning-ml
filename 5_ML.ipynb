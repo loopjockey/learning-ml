{
 "cells": [
  {
   "cell_type": "code",
   "execution_count": 105,
   "id": "8f706f6e-9c66-4254-b800-6db1b32da7ea",
   "metadata": {},
   "outputs": [],
   "source": [
    "import numpy as np\n",
    "import pandas as pd\n",
    "import os\n",
    "from pathlib import Path\n",
    "from fastai import *\n",
    "from fastai.vision.all import *\n",
    "from PIL import Image\n",
    "from sklearn.model_selection import train_test_split"
   ]
  },
  {
   "cell_type": "code",
   "execution_count": 7,
   "id": "51ef819f-d16d-450b-8545-8a57403bd9c9",
   "metadata": {},
   "outputs": [
    {
     "data": {
      "text/plain": [
       "'https://s3.amazonaws.com/fast-ai-imageclas/mnist_png.tgz'"
      ]
     },
     "execution_count": 7,
     "metadata": {},
     "output_type": "execute_result"
    }
   ],
   "source": [
    "URLs.MNIST"
   ]
  },
  {
   "cell_type": "code",
   "execution_count": 8,
   "id": "1506ff03-021b-42da-9f7f-e819da93038f",
   "metadata": {},
   "outputs": [
    {
     "data": {
      "text/html": [
       "\n",
       "<style>\n",
       "    /* Turns off some styling */\n",
       "    progress {\n",
       "        /* gets rid of default border in Firefox and Opera. */\n",
       "        border: none;\n",
       "        /* Needs to be in here for Safari polyfill so background images work as expected. */\n",
       "        background-size: auto;\n",
       "    }\n",
       "    progress:not([value]), progress:not([value])::-webkit-progress-bar {\n",
       "        background: repeating-linear-gradient(45deg, #7e7e7e, #7e7e7e 10px, #5c5c5c 10px, #5c5c5c 20px);\n",
       "    }\n",
       "    .progress-bar-interrupted, .progress-bar-interrupted::-webkit-progress-bar {\n",
       "        background: #F44336;\n",
       "    }\n",
       "</style>\n"
      ],
      "text/plain": [
       "<IPython.core.display.HTML object>"
      ]
     },
     "metadata": {},
     "output_type": "display_data"
    },
    {
     "data": {
      "text/html": [
       "\n",
       "    <div>\n",
       "      <progress value='15687680' class='' max='15683414' style='width:300px; height:20px; vertical-align: middle;'></progress>\n",
       "      100.03% [15687680/15683414 00:07&lt;00:00]\n",
       "    </div>\n",
       "    "
      ],
      "text/plain": [
       "<IPython.core.display.HTML object>"
      ]
     },
     "metadata": {},
     "output_type": "display_data"
    },
    {
     "data": {
      "text/plain": [
       "(#2) [Path('C:/Users/aqshe/.fastai/data/mnist_png/testing'),Path('C:/Users/aqshe/.fastai/data/mnist_png/training')]"
      ]
     },
     "execution_count": 8,
     "metadata": {},
     "output_type": "execute_result"
    }
   ],
   "source": [
    "path = untar_data(URLs.MNIST)\n",
    "path.ls()"
   ]
  },
  {
   "cell_type": "code",
   "execution_count": 41,
   "id": "fd981aff-ea24-4151-b479-88844a225d19",
   "metadata": {},
   "outputs": [
    {
     "data": {
      "image/png": "[encoded data removed]",
      "text/plain": [
       "<PIL.PngImagePlugin.PngImageFile image mode=L size=28x28>"
      ]
     },
     "execution_count": 41,
     "metadata": {},
     "output_type": "execute_result"
    }
   ],
   "source": [
    "demoImage = Image.open(path / 'testing' / '0' / '10.png')\n",
    "demoImage"
   ]
  },
  {
   "cell_type": "code",
   "execution_count": 61,
   "id": "a5e8dc6f-e555-49bc-87ed-df064f6efa03",
   "metadata": {},
   "outputs": [
    {
     "data": {
      "text/plain": [
       "(28, 28)"
      ]
     },
     "execution_count": 61,
     "metadata": {},
     "output_type": "execute_result"
    }
   ],
   "source": [
    "np.array(demoImage).shape"
   ]
  },
  {
   "cell_type": "code",
   "execution_count": 74,
   "id": "a5de4290-0caa-43d0-9916-fc89f07319e7",
   "metadata": {},
   "outputs": [
    {
     "data": {
      "text/plain": [
       "([], [])"
      ]
     },
     "execution_count": 74,
     "metadata": {},
     "output_type": "execute_result"
    }
   ],
   "source": [
    "t_indep = []\n",
    "t_dep = []\n",
    "t_dep,t_indep"
   ]
  },
  {
   "cell_type": "code",
   "execution_count": 75,
   "id": "27aceaed-5000-49e9-b529-719c2156523d",
   "metadata": {},
   "outputs": [],
   "source": [
    "# e.g. path/testing/0/10.png\n",
    "for d_type in ['training', 'testing']:\n",
    "    for cat_idx,cat_path in enumerate((path / d_type).ls()):\n",
    "        for pic_path in cat_path.ls():\n",
    "            image = Image.open(pic_path)\n",
    "            t_indep.append(np.array(image))\n",
    "            oneHots = np.zeros(10)\n",
    "            oneHots[cat_idx] = 1.0\n",
    "            t_dep.append(oneHots)\n",
    "        "
   ]
  },
  {
   "cell_type": "code",
   "execution_count": 87,
   "id": "30969e31-73db-4f0c-96c4-f9679b5ff2e1",
   "metadata": {},
   "outputs": [
    {
     "data": {
      "text/plain": [
       "((70000, 10), (70000, 28, 28))"
      ]
     },
     "execution_count": 87,
     "metadata": {},
     "output_type": "execute_result"
    }
   ],
   "source": [
    "t_dep = np.array(t_dep)\n",
    "t_indep = np.array(t_indep)\n",
    "t_dep.shape,t_indep.shape"
   ]
  },
  {
   "cell_type": "code",
   "execution_count": 89,
   "id": "6586ab4b-cd04-4b32-a01a-df0cc9af3f8c",
   "metadata": {},
   "outputs": [
    {
     "data": {
      "text/plain": [
       "(70000, 56000)"
      ]
     },
     "execution_count": 89,
     "metadata": {},
     "output_type": "execute_result"
    }
   ],
   "source": [
    "item_count = t_dep.shape[0]\n",
    "n_samples = int(item_count * .8)\n",
    "item_count,n_samples"
   ]
  },
  {
   "cell_type": "code",
   "execution_count": 110,
   "id": "533d2443-f4e5-4e93-9b46-4c7de99dfe37",
   "metadata": {},
   "outputs": [
    {
     "data": {
      "text/plain": [
       "(array([24572, 17896, 65493, ..., 45069, 27510, 40293]),\n",
       " array([    0,     1,     2, ..., 69992, 69997, 69999]))"
      ]
     },
     "execution_count": 110,
     "metadata": {},
     "output_type": "execute_result"
    }
   ],
   "source": [
    "train_idx = np.random.uniform(low=0, high=item_count, size=(n_samples,)).astype(int)\n",
    "valid_idx = np.array(list(set(np.arange(0, item_count)) - set(train_idx)))\n",
    "train_idx, valid_idx"
   ]
  },
  {
   "cell_type": "code",
   "execution_count": 114,
   "id": "2681a8e8-50a1-4e06-a27f-0c0cf9f36c20",
   "metadata": {},
   "outputs": [],
   "source": [
    "train_indep = t_indep[train_idx]\n",
    "valid_indep = t_indep[valid_idx]\n",
    "train_dep = t_dep[train_idx]\n",
    "valid_dep = t_dep[valid_idx]"
   ]
  },
  {
   "cell_type": "markdown",
   "id": "4e77d4ed-114e-4dc4-bb07-dd832d2fd0b3",
   "metadata": {},
   "source": [
    "General neural network function (layer by layer)\n",
    "\n",
    "```\n",
    "f = ActivationFunction\n",
    "x = f((weight * input) + bias)\n",
    "```"
   ]
  },
  {
   "cell_type": "code",
   "execution_count": null,
   "id": "c15ae199-a47a-488e-8c83-351cadd4e73c",
   "metadata": {},
   "outputs": [],
   "source": [
    "weights = "
   ]
  }
 ],
 "metadata": {
  "kernelspec": {
   "display_name": "Python 3 (ipykernel)",
   "language": "python",
   "name": "python3"
  },
  "language_info": {
   "codemirror_mode": {
    "name": "ipython",
    "version": 3
   },
   "file_extension": ".py",
   "mimetype": "text/x-python",
   "name": "python",
   "nbconvert_exporter": "python",
   "pygments_lexer": "ipython3",
   "version": "3.9.5"
  }
 },
 "nbformat": 4,
 "nbformat_minor": 5
}
