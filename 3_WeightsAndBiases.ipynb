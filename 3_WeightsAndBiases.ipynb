{
 "cells": [
  {
   "cell_type": "code",
   "execution_count": 51,
   "id": "2d4c816f-d4a4-4586-8345-467ddf18aa30",
   "metadata": {},
   "outputs": [],
   "source": [
    "import numpy as np\n",
    "import math\n",
    "import matplotlib.pyplot as plt"
   ]
  },
  {
   "cell_type": "markdown",
   "id": "41fe4fe5-0fb6-4e87-b049-db1102c84c6b",
   "metadata": {},
   "source": [
    "# Weights and biases\n",
    "\n",
    "https://towardsdatascience.com/everything-you-need-to-know-about-neural-networks-and-backpropagation-machine-learning-made-easy-e5285bc2be3a\n",
    "\n",
    "\n",
    "```\n",
    "f = ActivationFunction\n",
    "x = f((weight * input) + bias)\n",
    "```\n",
    "\n",
    "Each node in each layer is fully connected to each other node of each layer, with one important exception: there is a bias node in each layer which only propagates down the network (i.e. there are no weights for the bias of each layer). This allows for each layer to have a self contained value which can be updated during backprop, but which is agnostic to it's input.\n",
    "\n",
    "Numpy is a great library for this as it's ultimately just lots matrix/vector math.\n",
    "\n",
    "In the example, imagine we have a fully-connected neural network with an input layer containing 3 neurons (+ 1 bias). A hidden layer containing 5 neurons (+ 1 bias) and 1 output "
   ]
  },
  {
   "cell_type": "code",
   "execution_count": 34,
   "id": "0ee91c0e-f8ac-4555-ab07-91ed3a4ad2c0",
   "metadata": {},
   "outputs": [
    {
     "data": {
      "text/plain": [
       "((3,), (1,))"
      ]
     },
     "execution_count": 34,
     "metadata": {},
     "output_type": "execute_result"
    }
   ],
   "source": [
    "input_layer_bias = np.array([1.0])\n",
    "input_layer = np.arange(3.0)\n",
    "input_layer.shape, input_layer_bias.shape"
   ]
  },
  {
   "cell_type": "code",
   "execution_count": 22,
   "id": "8a451825-ffe5-46bc-b917-42ea1250314c",
   "metadata": {},
   "outputs": [
    {
     "data": {
      "text/plain": [
       "(5,)"
      ]
     },
     "execution_count": 22,
     "metadata": {},
     "output_type": "execute_result"
    }
   ],
   "source": [
    "hidden_layer_bias = 1.0\n",
    "hidden_layer = np.zeros(5)\n",
    "hidden_layer.shape"
   ]
  },
  {
   "cell_type": "code",
   "execution_count": 26,
   "id": "30441d6a-2fd9-4879-b8b1-6bf4bca5e574",
   "metadata": {},
   "outputs": [
    {
     "data": {
      "text/plain": [
       "(5, 4)"
      ]
     },
     "execution_count": 26,
     "metadata": {},
     "output_type": "execute_result"
    }
   ],
   "source": [
    "input_layer_count = input_layer.shape[0] + 1\n",
    "hidden_layer_count = hidden_layer.shape[0]\n",
    "weights = np.random.rand(input_layer_count * hidden_layer_count).reshape((hidden_layer_count, input_layer_count))\n",
    "weights.shape"
   ]
  },
  {
   "cell_type": "code",
   "execution_count": 27,
   "id": "a40787ea-a2d5-46e1-9dd4-d3201587a618",
   "metadata": {},
   "outputs": [
    {
     "data": {
      "text/plain": [
       "array([[0.36887307, 0.04253098, 0.83011642, 0.43696424],\n",
       "       [0.89528639, 0.73698355, 0.36295047, 0.82894118],\n",
       "       [0.95810036, 0.90070799, 0.86752922, 0.78180144],\n",
       "       [0.64514643, 0.69464495, 0.26281399, 0.91471275],\n",
       "       [0.86653225, 0.58044481, 0.7335222 , 0.63926258]])"
      ]
     },
     "execution_count": 27,
     "metadata": {},
     "output_type": "execute_result"
    }
   ],
   "source": [
    "weights"
   ]
  },
  {
   "cell_type": "code",
   "execution_count": 35,
   "id": "28e3c831-d5af-4062-9417-72354c16a495",
   "metadata": {},
   "outputs": [
    {
     "data": {
      "text/plain": [
       "array([1., 0., 1., 2.])"
      ]
     },
     "execution_count": 35,
     "metadata": {},
     "output_type": "execute_result"
    }
   ],
   "source": [
    "input_layer_plus_bias = np.hstack((input_layer_bias, input_layer))\n",
    "input_layer_plus_bias"
   ]
  },
  {
   "cell_type": "code",
   "execution_count": 39,
   "id": "e044ff60-33fe-4494-924a-c7066d604c83",
   "metadata": {},
   "outputs": [
    {
     "data": {
      "text/plain": [
       "array([[0.36887307, 0.        , 0.83011642, 0.87392848],\n",
       "       [0.89528639, 0.        , 0.36295047, 1.65788236],\n",
       "       [0.95810036, 0.        , 0.86752922, 1.56360287],\n",
       "       [0.64514643, 0.        , 0.26281399, 1.82942551],\n",
       "       [0.86653225, 0.        , 0.7335222 , 1.27852515]])"
      ]
     },
     "execution_count": 39,
     "metadata": {},
     "output_type": "execute_result"
    }
   ],
   "source": [
    "hidden_layer_weighed = input_layer_plus_bias * weights\n",
    "hidden_layer_weighed"
   ]
  },
  {
   "cell_type": "code",
   "execution_count": 45,
   "id": "c413f425-cf76-43a9-8fa9-42eadc46cccb",
   "metadata": {},
   "outputs": [
    {
     "data": {
      "text/plain": [
       "array([2.07291797, 2.91611922, 3.38923245, 2.73738593, 2.87857961])"
      ]
     },
     "execution_count": 45,
     "metadata": {},
     "output_type": "execute_result"
    }
   ],
   "source": [
    "hidden_layer_summed = np.sum(hidden_layer_weighed, axis=1)\n",
    "hidden_layer_summed"
   ]
  },
  {
   "cell_type": "code",
   "execution_count": 48,
   "id": "6f6a94ef-f56e-4f4f-b709-bdef54189bc6",
   "metadata": {},
   "outputs": [
    {
     "data": {
      "text/plain": [
       "array([2.07291797, 2.91611922, 3.38923245, 2.73738593, 2.87857961])"
      ]
     },
     "execution_count": 48,
     "metadata": {},
     "output_type": "execute_result"
    }
   ],
   "source": [
    "# np.maximum(0,) is the same as ReLU\n",
    "hidden_layer_activated = np.maximum(0, hidden_layer_summed)\n",
    "hidden_layer_activated"
   ]
  },
  {
   "cell_type": "markdown",
   "id": "16ccc472-9157-4bc9-9fc3-0d30846701ea",
   "metadata": {},
   "source": [
    "## Bias\n",
    "\n",
    "The importance of bias. Notice what a giant difference a change in X makes in the sigmoid activation function."
   ]
  },
  {
   "cell_type": "code",
   "execution_count": 55,
   "id": "78ee64a7-390f-47a0-97c3-2147722aa833",
   "metadata": {},
   "outputs": [
    {
     "data": {
      "image/png": "[encoded data removed]",
      "text/plain": [
       "<Figure size 640x480 with 1 Axes>"
      ]
     },
     "metadata": {},
     "output_type": "display_data"
    }
   ],
   "source": [
    "def sigmoid_step_fn(x):\n",
    "    return 1/(1+math.exp(-item))\n",
    "\n",
    "x = np.arange(-10., 10., 0.2) \n",
    "a = []     \n",
    "b = []\n",
    "for item in x:\n",
    "    a.append(sigmoid_step_fn(x))     \n",
    "    b.append(sigmoid_step_fn(x + 1))\n",
    "plt.plot(x,a,b) \n",
    "plt.show()"
   ]
  }
 ],
 "metadata": {
  "kernelspec": {
   "display_name": "Python 3 (ipykernel)",
   "language": "python",
   "name": "python3"
  },
  "language_info": {
   "codemirror_mode": {
    "name": "ipython",
    "version": 3
   },
   "file_extension": ".py",
   "mimetype": "text/x-python",
   "name": "python",
   "nbconvert_exporter": "python",
   "pygments_lexer": "ipython3",
   "version": "3.9.5"
  }
 },
 "nbformat": 4,
 "nbformat_minor": 5
}
