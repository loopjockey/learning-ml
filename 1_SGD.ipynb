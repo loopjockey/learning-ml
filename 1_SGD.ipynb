{
 "cells": [
  {
   "cell_type": "markdown",
   "id": "f1aab130-7aa2-4d99-af9f-f0173d0c7555",
   "metadata": {},
   "source": [
    "# Overview\n",
    "\n",
    "This is personal log for my journey into ML. I first want to implement some of the basic operations of ML first by hand so that I have a good grasp of the underlying. \n",
    "\n",
    "Based on the article: https://towardsdatascience.com/stochastic-gradient-descent-clearly-explained-53d239905d31"
   ]
  },
  {
   "cell_type": "code",
   "execution_count": 35,
   "id": "89f94323-0608-4569-bd7b-275f141264ef",
   "metadata": {},
   "outputs": [],
   "source": [
    "from random import random\n",
    "import matplotlib.pyplot as plt"
   ]
  },
  {
   "cell_type": "markdown",
   "id": "d10b2fc6-de59-4796-aca7-a96dab3b9366",
   "metadata": {},
   "source": [
    "Define both the function to apply SGD to, and hardcode it's derivative:\n",
    "\n",
    "```\n",
    "f = x ^ 2 - 2x - 3\n",
    "f' = 2x - 2\n",
    "```"
   ]
  },
  {
   "cell_type": "code",
   "execution_count": 34,
   "id": "fe4fc5d9-8674-4b63-9b59-ff95f83a5fe2",
   "metadata": {},
   "outputs": [],
   "source": [
    "def f(x):\n",
    "    return x ** 2 - 2 * x - 3"
   ]
  },
  {
   "cell_type": "code",
   "execution_count": 24,
   "id": "363b7c19-9dfb-4654-8136-fc7633311a5b",
   "metadata": {},
   "outputs": [],
   "source": [
    "def f1(x1):\n",
    "    return 2 * x - 2"
   ]
  },
  {
   "cell_type": "code",
   "execution_count": 36,
   "id": "fb12d7f8-f115-4b42-bbed-1ff5c169a384",
   "metadata": {},
   "outputs": [
    {
     "data": {
      "image/png": "[encoded data removed]",
      "text/plain": [
       "<Figure size 640x480 with 1 Axes>"
      ]
     },
     "metadata": {},
     "output_type": "display_data"
    }
   ],
   "source": [
    "x = np.linspace(-5,5,100)\n",
    "y = f(x)\n",
    "\n",
    "fig = plt.figure()\n",
    "ax = fig.add_subplot(1, 1, 1)\n",
    "ax.spines['left'].set_position('center')\n",
    "ax.spines['bottom'].set_position('zero')\n",
    "ax.spines['right'].set_color('none')\n",
    "ax.spines['top'].set_color('none')\n",
    "ax.xaxis.set_ticks_position('bottom')\n",
    "ax.yaxis.set_ticks_position('left')\n",
    "\n",
    "plt.plot(x,y, 'r')\n",
    "plt.show()"
   ]
  },
  {
   "cell_type": "markdown",
   "id": "59b743e1-47b2-468e-bf06-9a2fc6241678",
   "metadata": {},
   "source": [
    "The limit to the function `f` is 4. \n",
    "\n",
    "Initialize a random X value somewhere along the curve"
   ]
  },
  {
   "cell_type": "code",
   "execution_count": 37,
   "id": "38954641-fcb6-438f-af03-536c5b402a9e",
   "metadata": {},
   "outputs": [
    {
     "data": {
      "text/plain": [
       "0.5116002689549722"
      ]
     },
     "execution_count": 37,
     "metadata": {},
     "output_type": "execute_result"
    }
   ],
   "source": [
    "x = random() \n",
    "x"
   ]
  },
  {
   "cell_type": "code",
   "execution_count": 38,
   "id": "9cc89ba9-16a6-4a5b-a53a-c4718cbefe05",
   "metadata": {},
   "outputs": [],
   "source": [
    "lr = 0.01"
   ]
  },
  {
   "cell_type": "code",
   "execution_count": 39,
   "id": "63e7e0b8-276e-484f-bf1a-3357eba57541",
   "metadata": {},
   "outputs": [
    {
     "data": {
      "text/plain": [
       "-0.9767994620900555"
      ]
     },
     "execution_count": 39,
     "metadata": {},
     "output_type": "execute_result"
    }
   ],
   "source": [
    "grad = f1(x)\n",
    "grad"
   ]
  },
  {
   "cell_type": "code",
   "execution_count": 40,
   "id": "1d69f00a-ae7d-470c-a311-b2fb11cbc1b8",
   "metadata": {},
   "outputs": [],
   "source": [
    "while abs(grad) > 0.0000001:\n",
    "    step = grad * lr\n",
    "    x = x - step\n",
    "    grad = f1(x)"
   ]
  },
  {
   "cell_type": "code",
   "execution_count": 41,
   "id": "30f33a94-007f-40bd-a6a2-c760145ea9e8",
   "metadata": {},
   "outputs": [
    {
     "data": {
      "text/plain": [
       "-9.930880118247387e-08"
      ]
     },
     "execution_count": 41,
     "metadata": {},
     "output_type": "execute_result"
    }
   ],
   "source": [
    "grad"
   ]
  },
  {
   "cell_type": "code",
   "execution_count": 42,
   "id": "11d4bfd6-5328-42f6-a2b2-50659b7c9320",
   "metadata": {},
   "outputs": [
    {
     "data": {
      "text/plain": [
       "0.9999999503455994"
      ]
     },
     "execution_count": 42,
     "metadata": {},
     "output_type": "execute_result"
    }
   ],
   "source": [
    "x"
   ]
  },
  {
   "cell_type": "code",
   "execution_count": 43,
   "id": "eaa9eff6-74fc-4765-b6eb-73912922e3c2",
   "metadata": {},
   "outputs": [
    {
     "data": {
      "text/plain": [
       "-3.9999999999999973"
      ]
     },
     "execution_count": 43,
     "metadata": {},
     "output_type": "execute_result"
    }
   ],
   "source": [
    "f(x)"
   ]
  },
  {
   "cell_type": "code",
   "execution_count": 44,
   "id": "2ad91fae-efde-40a0-8cbf-6257d4efd36a",
   "metadata": {},
   "outputs": [
    {
     "data": {
      "text/plain": [
       "-9.930880118247387e-08"
      ]
     },
     "execution_count": 44,
     "metadata": {},
     "output_type": "execute_result"
    }
   ],
   "source": [
    "f1(x)"
   ]
  }
 ],
 "metadata": {
  "kernelspec": {
   "display_name": "Python 3 (ipykernel)",
   "language": "python",
   "name": "python3"
  },
  "language_info": {
   "codemirror_mode": {
    "name": "ipython",
    "version": 3
   },
   "file_extension": ".py",
   "mimetype": "text/x-python",
   "name": "python",
   "nbconvert_exporter": "python",
   "pygments_lexer": "ipython3",
   "version": "3.9.5"
  }
 },
 "nbformat": 4,
 "nbformat_minor": 5
}
